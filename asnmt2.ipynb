{
  "nbformat": 4,
  "nbformat_minor": 0,
  "metadata": {
    "colab": {
      "provenance": []
    },
    "kernelspec": {
      "name": "python3",
      "display_name": "Python 3"
    },
    "language_info": {
      "name": "python"
    }
  },
  "cells": [
    {
      "cell_type": "code",
      "execution_count": null,
      "metadata": {
        "id": "LdbJMZOk56yA"
      },
      "outputs": [],
      "source": [
        "# area of rectangle"
      ]
    },
    {
      "cell_type": "code",
      "source": [
        "height=int(input('enter a number'))\n",
        "width=int(input('enter a number'))\n",
        "a=height*width\n",
        "print(a)"
      ],
      "metadata": {
        "colab": {
          "base_uri": "https://localhost:8080/"
        },
        "id": "v1a1aRyw6F7c",
        "outputId": "11f7bb74-1935-4e78-9db7-ec3842293091"
      },
      "execution_count": null,
      "outputs": [
        {
          "output_type": "stream",
          "name": "stdout",
          "text": [
            "enter a number5\n",
            "enter a number2\n",
            "10\n"
          ]
        }
      ]
    },
    {
      "cell_type": "code",
      "source": [
        "# sum,difference,product and quotient"
      ],
      "metadata": {
        "id": "UVpmuy1q6e4T"
      },
      "execution_count": null,
      "outputs": []
    },
    {
      "cell_type": "code",
      "source": [
        "a=int(input('enter a number'))\n",
        "b=int(input('enter a number'))\n",
        "s=a+b\n",
        "d=a-b\n",
        "p=a*b\n",
        "q=a/b\n",
        "print(s)\n",
        "print(d)\n",
        "print(p)\n",
        "print(q)\n"
      ],
      "metadata": {
        "colab": {
          "base_uri": "https://localhost:8080/"
        },
        "id": "Pp0tJVBs6o2b",
        "outputId": "429fd618-5663-4c96-9ba7-4558f6dcf58d"
      },
      "execution_count": null,
      "outputs": [
        {
          "output_type": "stream",
          "name": "stdout",
          "text": [
            "enter a number2\n",
            "enter a number5\n",
            "7\n",
            "-3\n",
            "10\n",
            "0.4\n"
          ]
        }
      ]
    },
    {
      "cell_type": "code",
      "source": [
        "# convert temprature from fahrenheint\n",
        "\n"
      ],
      "metadata": {
        "id": "TES9s-Wn7Ke8"
      },
      "execution_count": null,
      "outputs": []
    },
    {
      "cell_type": "code",
      "source": [
        "f=float(input('enter a number'))\n",
        "c=(f-32)*5/9\n",
        "print(c)"
      ],
      "metadata": {
        "colab": {
          "base_uri": "https://localhost:8080/"
        },
        "id": "1w53r36Z7U9k",
        "outputId": "75333846-482d-4c9b-9902-602bd29b9178"
      },
      "execution_count": null,
      "outputs": [
        {
          "output_type": "stream",
          "name": "stdout",
          "text": [
            "enter a number50\n",
            "10.0\n"
          ]
        }
      ]
    },
    {
      "cell_type": "code",
      "source": [
        "c=float(input('enter a number'))\n",
        "f=(c*9/5)+32\n",
        "print(f)"
      ],
      "metadata": {
        "colab": {
          "base_uri": "https://localhost:8080/"
        },
        "id": "USA50yrp7obi",
        "outputId": "ad137561-215f-4e67-c96f-a2385b998868"
      },
      "execution_count": null,
      "outputs": [
        {
          "output_type": "stream",
          "name": "stdout",
          "text": [
            "enter a number20\n",
            "68.0\n"
          ]
        }
      ]
    },
    {
      "cell_type": "code",
      "source": [
        "# number is postive or negative"
      ],
      "metadata": {
        "id": "QdL9dq3J72jh"
      },
      "execution_count": null,
      "outputs": []
    },
    {
      "cell_type": "code",
      "source": [
        "num=int(input('enter a number'))\n",
        "if a>0:\n",
        "  print('num is postive')\n",
        "elif a<0:\n",
        "    print('num is negative')"
      ],
      "metadata": {
        "colab": {
          "base_uri": "https://localhost:8080/"
        },
        "id": "-GBcAkT97-GU",
        "outputId": "a19c994d-2cbf-45ce-840c-fdfe85c08498"
      },
      "execution_count": null,
      "outputs": [
        {
          "output_type": "stream",
          "name": "stdout",
          "text": [
            "enter a number2\n",
            "num is postive\n"
          ]
        }
      ]
    },
    {
      "cell_type": "code",
      "source": [
        " # write a python function that deter"
      ],
      "metadata": {
        "id": "kH0nf_0p8b6g"
      },
      "execution_count": null,
      "outputs": []
    },
    {
      "cell_type": "code",
      "source": [
        "y=int(input('enter the year'))\n",
        "if y%4==0:\n",
        "  print(\"it is leap year\")\n",
        "elif y%4!=0:\n",
        "  print(\"it is not leap year\")\n",
        "elif y%400==0:\n",
        "  print(\"it is a leap year\")\n",
        "elif y%400!=0:\n",
        "  print(\"it is not leap year\")"
      ],
      "metadata": {
        "colab": {
          "base_uri": "https://localhost:8080/"
        },
        "id": "4OM0C2yv8lr1",
        "outputId": "d0de53e8-8fbf-4e69-d68b-bcee4b6ca1a3"
      },
      "execution_count": null,
      "outputs": [
        {
          "output_type": "stream",
          "name": "stdout",
          "text": [
            "enter the year2005\n",
            "it is not leap year\n"
          ]
        }
      ]
    },
    {
      "cell_type": "code",
      "source": [
        "# grade scale"
      ],
      "metadata": {
        "id": "HhIudRud9TZo"
      },
      "execution_count": null,
      "outputs": []
    },
    {
      "cell_type": "code",
      "source": [
        "mark=int(input('enter mark'))\n",
        "if mark>90:\n",
        "  print('A')\n",
        "elif mark>80:\n",
        "  print('B')\n",
        "elif mark>70:\n",
        "  print('C')"
      ],
      "metadata": {
        "colab": {
          "base_uri": "https://localhost:8080/"
        },
        "id": "e601BiHD9YA8",
        "outputId": "c6bda5a7-e0f2-4d34-a300-e9f653aee78c"
      },
      "execution_count": null,
      "outputs": [
        {
          "output_type": "stream",
          "name": "stdout",
          "text": [
            "enter mark95\n",
            "A\n"
          ]
        }
      ]
    },
    {
      "cell_type": "code",
      "source": [
        "# PRINT 10 TO 1"
      ],
      "metadata": {
        "id": "en30Ov6d-CR0"
      },
      "execution_count": null,
      "outputs": []
    },
    {
      "cell_type": "code",
      "source": [
        "for num in range (10,0,-1):\n",
        "  print(num)"
      ],
      "metadata": {
        "colab": {
          "base_uri": "https://localhost:8080/"
        },
        "id": "gi-EH9Mg-Glw",
        "outputId": "47623d93-7e4c-44bd-cd80-3f9ab92c9ce2"
      },
      "execution_count": null,
      "outputs": [
        {
          "output_type": "stream",
          "name": "stdout",
          "text": [
            "10\n",
            "9\n",
            "8\n",
            "7\n",
            "6\n",
            "5\n",
            "4\n",
            "3\n",
            "2\n",
            "1\n"
          ]
        }
      ]
    },
    {
      "cell_type": "code",
      "source": [
        "#multiplication table"
      ],
      "metadata": {
        "id": "RRxLVWsd-S7m"
      },
      "execution_count": null,
      "outputs": []
    },
    {
      "cell_type": "code",
      "source": [
        "n=int(input('enter a number'))\n",
        "for i in range(1,11):\n",
        " print (i,'x',i,'=',i*n)"
      ],
      "metadata": {
        "colab": {
          "base_uri": "https://localhost:8080/"
        },
        "id": "ooW_O77E-Zke",
        "outputId": "22707cb2-b71b-44fb-ba91-488947b90c01"
      },
      "execution_count": null,
      "outputs": [
        {
          "name": "stdout",
          "output_type": "stream",
          "text": [
            "enter a number2\n"
          ]
        }
      ]
    }
  ]
}