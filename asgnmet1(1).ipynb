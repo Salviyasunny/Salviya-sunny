{
  "nbformat": 4,
  "nbformat_minor": 0,
  "metadata": {
    "colab": {
      "provenance": []
    },
    "kernelspec": {
      "name": "python3",
      "display_name": "Python 3"
    },
    "language_info": {
      "name": "python"
    }
  },
  "cells": [
    {
      "cell_type": "code",
      "execution_count": null,
      "metadata": {
        "colab": {
          "base_uri": "https://localhost:8080/"
        },
        "id": "W8ezoVfown_Y",
        "outputId": "2e75b3fb-28f0-4b67-886b-86441971db0c"
      },
      "outputs": [
        {
          "output_type": "stream",
          "name": "stdout",
          "text": [
            "Enter first number5\n",
            "Enter second number10\n",
            "15\n"
          ]
        }
      ],
      "source": [
        "#input function\n",
        "a=int(input('Enter first number'))\n",
        "b=int(input('Enter second number'))\n",
        "s=a+b\n",
        "print(s)"
      ]
    },
    {
      "cell_type": "code",
      "source": [
        "a=int(input('Enter first number'))\n",
        "b=int(input('Enter second number'))\n",
        "s=a*b\n",
        "print(s)"
      ],
      "metadata": {
        "colab": {
          "base_uri": "https://localhost:8080/"
        },
        "id": "SMPdUkPfxuMH",
        "outputId": "b9bd872d-3ebb-4fc0-9b71-64e121fc7fdf"
      },
      "execution_count": null,
      "outputs": [
        {
          "output_type": "stream",
          "name": "stdout",
          "text": [
            "Enter first number2\n",
            "Enter second number4\n",
            "8\n"
          ]
        }
      ]
    },
    {
      "cell_type": "code",
      "source": [
        "\n",
        "s=\"salviya\"\n",
        "len(s)"
      ],
      "metadata": {
        "colab": {
          "base_uri": "https://localhost:8080/"
        },
        "id": "ogHGp4WeyvaM",
        "outputId": "a2ba3b89-3375-477a-b827-560a9b7ff8bb"
      },
      "execution_count": null,
      "outputs": [
        {
          "output_type": "execute_result",
          "data": {
            "text/plain": [
              "7"
            ]
          },
          "metadata": {},
          "execution_count": 5
        }
      ]
    },
    {
      "cell_type": "code",
      "source": [
        "x='COMPUTER'"
      ],
      "metadata": {
        "id": "VLHObVBHzDfb"
      },
      "execution_count": null,
      "outputs": []
    },
    {
      "cell_type": "code",
      "source": [
        "x[2:5]\n"
      ],
      "metadata": {
        "id": "zm-o7Vk7zU4_",
        "colab": {
          "base_uri": "https://localhost:8080/",
          "height": 35
        },
        "outputId": "9d743ba3-1663-4fea-a2ac-ab7b3166cb84"
      },
      "execution_count": null,
      "outputs": [
        {
          "output_type": "execute_result",
          "data": {
            "text/plain": [
              "'MPU'"
            ],
            "application/vnd.google.colaboratory.intrinsic+json": {
              "type": "string"
            }
          },
          "metadata": {},
          "execution_count": 9
        }
      ]
    },
    {
      "cell_type": "code",
      "source": [
        "x[1:4]"
      ],
      "metadata": {
        "colab": {
          "base_uri": "https://localhost:8080/",
          "height": 35
        },
        "id": "ISckv7Fh2gFj",
        "outputId": "84324cae-c264-42be-e09d-93a7064fe71b"
      },
      "execution_count": null,
      "outputs": [
        {
          "output_type": "execute_result",
          "data": {
            "text/plain": [
              "'OMP'"
            ],
            "application/vnd.google.colaboratory.intrinsic+json": {
              "type": "string"
            }
          },
          "metadata": {},
          "execution_count": 8
        }
      ]
    },
    {
      "cell_type": "code",
      "source": [
        "string=input(\"enter astring:\")\n",
        "character=input(\"enter a character:\")\n",
        "count=0\n",
        "for char in string:\n",
        "    if char==character:\n",
        "      count+=1\n",
        "      print(\"the character\",character)\n",
        "      enter a string :salviya\n",
        "      enter a character to find:athe character a occur 2 times i"
      ],
      "metadata": {
        "colab": {
          "base_uri": "https://localhost:8080/",
          "height": 143
        },
        "id": "9W21WO8l2-Q_",
        "outputId": "515ca4d5-0ae7-4c4b-a982-58b690699af7"
      },
      "execution_count": null,
      "outputs": [
        {
          "output_type": "error",
          "ename": "SyntaxError",
          "evalue": "ignored",
          "traceback": [
            "\u001b[0;36m  File \u001b[0;32m\"<ipython-input-13-00471c89c51e>\"\u001b[0;36m, line \u001b[0;32m8\u001b[0m\n\u001b[0;31m    enter a string :salviya\u001b[0m\n\u001b[0m          ^\u001b[0m\n\u001b[0;31mSyntaxError\u001b[0m\u001b[0;31m:\u001b[0m invalid syntax\n"
          ]
        }
      ]
    },
    {
      "cell_type": "code",
      "source": [
        "s1=\"elephant\"\n",
        "s1.upper()"
      ],
      "metadata": {
        "colab": {
          "base_uri": "https://localhost:8080/",
          "height": 35
        },
        "id": "OskSUS1z4d_F",
        "outputId": "3767e601-60a5-4b9a-f144-087b6f18ac7c"
      },
      "execution_count": null,
      "outputs": [
        {
          "output_type": "execute_result",
          "data": {
            "text/plain": [
              "'ELEPHANT'"
            ],
            "application/vnd.google.colaboratory.intrinsic+json": {
              "type": "string"
            }
          },
          "metadata": {},
          "execution_count": 15
        }
      ]
    },
    {
      "cell_type": "code",
      "source": [
        "s1.lower()"
      ],
      "metadata": {
        "colab": {
          "base_uri": "https://localhost:8080/",
          "height": 35
        },
        "id": "Rog_bRum5cV4",
        "outputId": "1fb5b30a-a221-430f-87ce-25a8c647bf53"
      },
      "execution_count": null,
      "outputs": [
        {
          "output_type": "execute_result",
          "data": {
            "text/plain": [
              "'elephant'"
            ],
            "application/vnd.google.colaboratory.intrinsic+json": {
              "type": "string"
            }
          },
          "metadata": {},
          "execution_count": 16
        }
      ]
    }
  ]
}